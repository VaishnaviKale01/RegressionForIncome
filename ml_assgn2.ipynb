{
 "cells": [
  {
   "cell_type": "code",
   "execution_count": 1,
   "metadata": {},
   "outputs": [
    {
     "data": {
      "text/html": [
       "<div>\n",
       "<style scoped>\n",
       "    .dataframe tbody tr th:only-of-type {\n",
       "        vertical-align: middle;\n",
       "    }\n",
       "\n",
       "    .dataframe tbody tr th {\n",
       "        vertical-align: top;\n",
       "    }\n",
       "\n",
       "    .dataframe thead th {\n",
       "        text-align: right;\n",
       "    }\n",
       "</style>\n",
       "<table border=\"1\" class=\"dataframe\">\n",
       "  <thead>\n",
       "    <tr style=\"text-align: right;\">\n",
       "      <th></th>\n",
       "      <th>Total Household Income</th>\n",
       "      <th>Region</th>\n",
       "      <th>Total Food Expenditure</th>\n",
       "      <th>Main Source of Income</th>\n",
       "      <th>Agricultural Household indicator</th>\n",
       "      <th>Bread and Cereals Expenditure</th>\n",
       "      <th>Total Rice Expenditure</th>\n",
       "      <th>Meat Expenditure</th>\n",
       "      <th>Total Fish and  marine products Expenditure</th>\n",
       "      <th>Fruit Expenditure</th>\n",
       "      <th>...</th>\n",
       "      <th>Number of Refrigerator/Freezer</th>\n",
       "      <th>Number of Washing Machine</th>\n",
       "      <th>Number of Airconditioner</th>\n",
       "      <th>Number of Car, Jeep, Van</th>\n",
       "      <th>Number of Landline/wireless telephones</th>\n",
       "      <th>Number of Cellular phone</th>\n",
       "      <th>Number of Personal Computer</th>\n",
       "      <th>Number of Stove with Oven/Gas Range</th>\n",
       "      <th>Number of Motorized Banca</th>\n",
       "      <th>Number of Motorcycle/Tricycle</th>\n",
       "    </tr>\n",
       "  </thead>\n",
       "  <tbody>\n",
       "    <tr>\n",
       "      <th>0</th>\n",
       "      <td>480332</td>\n",
       "      <td>CAR</td>\n",
       "      <td>117848</td>\n",
       "      <td>Wage/Salaries</td>\n",
       "      <td>0</td>\n",
       "      <td>42140</td>\n",
       "      <td>38300</td>\n",
       "      <td>24676</td>\n",
       "      <td>16806</td>\n",
       "      <td>3325</td>\n",
       "      <td>...</td>\n",
       "      <td>1</td>\n",
       "      <td>1</td>\n",
       "      <td>0</td>\n",
       "      <td>0</td>\n",
       "      <td>0</td>\n",
       "      <td>2</td>\n",
       "      <td>1</td>\n",
       "      <td>0</td>\n",
       "      <td>0</td>\n",
       "      <td>1</td>\n",
       "    </tr>\n",
       "    <tr>\n",
       "      <th>1</th>\n",
       "      <td>198235</td>\n",
       "      <td>CAR</td>\n",
       "      <td>67766</td>\n",
       "      <td>Wage/Salaries</td>\n",
       "      <td>0</td>\n",
       "      <td>17329</td>\n",
       "      <td>13008</td>\n",
       "      <td>17434</td>\n",
       "      <td>11073</td>\n",
       "      <td>2035</td>\n",
       "      <td>...</td>\n",
       "      <td>0</td>\n",
       "      <td>1</td>\n",
       "      <td>0</td>\n",
       "      <td>0</td>\n",
       "      <td>0</td>\n",
       "      <td>3</td>\n",
       "      <td>1</td>\n",
       "      <td>0</td>\n",
       "      <td>0</td>\n",
       "      <td>2</td>\n",
       "    </tr>\n",
       "    <tr>\n",
       "      <th>2</th>\n",
       "      <td>82785</td>\n",
       "      <td>CAR</td>\n",
       "      <td>61609</td>\n",
       "      <td>Wage/Salaries</td>\n",
       "      <td>1</td>\n",
       "      <td>34182</td>\n",
       "      <td>32001</td>\n",
       "      <td>7783</td>\n",
       "      <td>2590</td>\n",
       "      <td>1730</td>\n",
       "      <td>...</td>\n",
       "      <td>0</td>\n",
       "      <td>0</td>\n",
       "      <td>0</td>\n",
       "      <td>0</td>\n",
       "      <td>0</td>\n",
       "      <td>0</td>\n",
       "      <td>0</td>\n",
       "      <td>0</td>\n",
       "      <td>0</td>\n",
       "      <td>0</td>\n",
       "    </tr>\n",
       "    <tr>\n",
       "      <th>3</th>\n",
       "      <td>107589</td>\n",
       "      <td>CAR</td>\n",
       "      <td>78189</td>\n",
       "      <td>Wage/Salaries</td>\n",
       "      <td>0</td>\n",
       "      <td>34030</td>\n",
       "      <td>28659</td>\n",
       "      <td>10914</td>\n",
       "      <td>10812</td>\n",
       "      <td>690</td>\n",
       "      <td>...</td>\n",
       "      <td>0</td>\n",
       "      <td>0</td>\n",
       "      <td>0</td>\n",
       "      <td>0</td>\n",
       "      <td>0</td>\n",
       "      <td>1</td>\n",
       "      <td>0</td>\n",
       "      <td>0</td>\n",
       "      <td>0</td>\n",
       "      <td>0</td>\n",
       "    </tr>\n",
       "    <tr>\n",
       "      <th>4</th>\n",
       "      <td>189322</td>\n",
       "      <td>CAR</td>\n",
       "      <td>94625</td>\n",
       "      <td>Wage/Salaries</td>\n",
       "      <td>0</td>\n",
       "      <td>34820</td>\n",
       "      <td>30167</td>\n",
       "      <td>18391</td>\n",
       "      <td>11309</td>\n",
       "      <td>1395</td>\n",
       "      <td>...</td>\n",
       "      <td>1</td>\n",
       "      <td>0</td>\n",
       "      <td>0</td>\n",
       "      <td>0</td>\n",
       "      <td>0</td>\n",
       "      <td>3</td>\n",
       "      <td>0</td>\n",
       "      <td>0</td>\n",
       "      <td>0</td>\n",
       "      <td>1</td>\n",
       "    </tr>\n",
       "  </tbody>\n",
       "</table>\n",
       "<p>5 rows × 60 columns</p>\n",
       "</div>"
      ],
      "text/plain": [
       "   Total Household Income Region  Total Food Expenditure  \\\n",
       "0                  480332    CAR                  117848   \n",
       "1                  198235    CAR                   67766   \n",
       "2                   82785    CAR                   61609   \n",
       "3                  107589    CAR                   78189   \n",
       "4                  189322    CAR                   94625   \n",
       "\n",
       "  Main Source of Income  Agricultural Household indicator  \\\n",
       "0         Wage/Salaries                                 0   \n",
       "1         Wage/Salaries                                 0   \n",
       "2         Wage/Salaries                                 1   \n",
       "3         Wage/Salaries                                 0   \n",
       "4         Wage/Salaries                                 0   \n",
       "\n",
       "   Bread and Cereals Expenditure  Total Rice Expenditure  Meat Expenditure  \\\n",
       "0                          42140                   38300             24676   \n",
       "1                          17329                   13008             17434   \n",
       "2                          34182                   32001              7783   \n",
       "3                          34030                   28659             10914   \n",
       "4                          34820                   30167             18391   \n",
       "\n",
       "   Total Fish and  marine products Expenditure  Fruit Expenditure  ...  \\\n",
       "0                                        16806               3325  ...   \n",
       "1                                        11073               2035  ...   \n",
       "2                                         2590               1730  ...   \n",
       "3                                        10812                690  ...   \n",
       "4                                        11309               1395  ...   \n",
       "\n",
       "   Number of Refrigerator/Freezer  Number of Washing Machine  \\\n",
       "0                               1                          1   \n",
       "1                               0                          1   \n",
       "2                               0                          0   \n",
       "3                               0                          0   \n",
       "4                               1                          0   \n",
       "\n",
       "   Number of Airconditioner  Number of Car, Jeep, Van  \\\n",
       "0                         0                         0   \n",
       "1                         0                         0   \n",
       "2                         0                         0   \n",
       "3                         0                         0   \n",
       "4                         0                         0   \n",
       "\n",
       "   Number of Landline/wireless telephones  Number of Cellular phone  \\\n",
       "0                                       0                         2   \n",
       "1                                       0                         3   \n",
       "2                                       0                         0   \n",
       "3                                       0                         1   \n",
       "4                                       0                         3   \n",
       "\n",
       "   Number of Personal Computer  Number of Stove with Oven/Gas Range  \\\n",
       "0                            1                                    0   \n",
       "1                            1                                    0   \n",
       "2                            0                                    0   \n",
       "3                            0                                    0   \n",
       "4                            0                                    0   \n",
       "\n",
       "   Number of Motorized Banca  Number of Motorcycle/Tricycle  \n",
       "0                          0                              1  \n",
       "1                          0                              2  \n",
       "2                          0                              0  \n",
       "3                          0                              0  \n",
       "4                          0                              1  \n",
       "\n",
       "[5 rows x 60 columns]"
      ]
     },
     "execution_count": 1,
     "metadata": {},
     "output_type": "execute_result"
    }
   ],
   "source": [
    "# Import required packages. \n",
    "import sklearn\n",
    "import re\n",
    "import pandas as pd\n",
    "\n",
    "income_data = pd.read_csv(\"D:/Study Material/Machine Learning/Family Income and Expenditure.csv/Family Income and Expenditure.csv\")\n",
    "income_data.head()\n"
   ]
  },
  {
   "cell_type": "code",
   "execution_count": 2,
   "metadata": {},
   "outputs": [
    {
     "name": "stdout",
     "output_type": "stream",
     "text": [
      "<class 'pandas.core.frame.DataFrame'>\n",
      "RangeIndex: 41544 entries, 0 to 41543\n",
      "Data columns (total 60 columns):\n",
      " #   Column                                         Non-Null Count  Dtype \n",
      "---  ------                                         --------------  ----- \n",
      " 0   Total Household Income                         41544 non-null  int64 \n",
      " 1   Region                                         41544 non-null  object\n",
      " 2   Total Food Expenditure                         41544 non-null  int64 \n",
      " 3   Main Source of Income                          41544 non-null  object\n",
      " 4   Agricultural Household indicator               41544 non-null  int64 \n",
      " 5   Bread and Cereals Expenditure                  41544 non-null  int64 \n",
      " 6   Total Rice Expenditure                         41544 non-null  int64 \n",
      " 7   Meat Expenditure                               41544 non-null  int64 \n",
      " 8   Total Fish and  marine products Expenditure    41544 non-null  int64 \n",
      " 9   Fruit Expenditure                              41544 non-null  int64 \n",
      " 10  Vegetables Expenditure                         41544 non-null  int64 \n",
      " 11  Restaurant and hotels Expenditure              41544 non-null  int64 \n",
      " 12  Alcoholic Beverages Expenditure                41544 non-null  int64 \n",
      " 13  Tobacco Expenditure                            41544 non-null  int64 \n",
      " 14  Clothing, Footwear and Other Wear Expenditure  41544 non-null  int64 \n",
      " 15  Housing and water Expenditure                  41544 non-null  int64 \n",
      " 16  Imputed House Rental Value                     41544 non-null  int64 \n",
      " 17  Medical Care Expenditure                       41544 non-null  int64 \n",
      " 18  Transportation Expenditure                     41544 non-null  int64 \n",
      " 19  Communication Expenditure                      41544 non-null  int64 \n",
      " 20  Education Expenditure                          41544 non-null  int64 \n",
      " 21  Miscellaneous Goods and Services Expenditure   41544 non-null  int64 \n",
      " 22  Special Occasions Expenditure                  41544 non-null  int64 \n",
      " 23  Crop Farming and Gardening expenses            41544 non-null  int64 \n",
      " 24  Total Income from Entrepreneurial Acitivites   41544 non-null  int64 \n",
      " 25  Household Head Sex                             41544 non-null  object\n",
      " 26  Household Head Age                             41544 non-null  int64 \n",
      " 27  Household Head Marital Status                  41544 non-null  object\n",
      " 28  Household Head Highest Grade Completed         41544 non-null  object\n",
      " 29  Household Head Job or Business Indicator       41544 non-null  object\n",
      " 30  Household Head Occupation                      34008 non-null  object\n",
      " 31  Household Head Class of Worker                 34008 non-null  object\n",
      " 32  Type of Household                              41544 non-null  object\n",
      " 33  Total Number of Family members                 41544 non-null  int64 \n",
      " 34  Members with age less than 5 year old          41544 non-null  int64 \n",
      " 35  Members with age 5 - 17 years old              41544 non-null  int64 \n",
      " 36  Total number of family members employed        41544 non-null  int64 \n",
      " 37  Type of Building/House                         41544 non-null  object\n",
      " 38  Type of Roof                                   41544 non-null  object\n",
      " 39  Type of Walls                                  41544 non-null  object\n",
      " 40  House Floor Area                               41544 non-null  int64 \n",
      " 41  House Age                                      41544 non-null  int64 \n",
      " 42  Number of bedrooms                             41544 non-null  int64 \n",
      " 43  Tenure Status                                  41544 non-null  object\n",
      " 44  Toilet Facilities                              41544 non-null  object\n",
      " 45  Electricity                                    41544 non-null  int64 \n",
      " 46  Main Source of Water Supply                    41544 non-null  object\n",
      " 47  Number of Television                           41544 non-null  int64 \n",
      " 48  Number of CD/VCD/DVD                           41544 non-null  int64 \n",
      " 49  Number of Component/Stereo set                 41544 non-null  int64 \n",
      " 50  Number of Refrigerator/Freezer                 41544 non-null  int64 \n",
      " 51  Number of Washing Machine                      41544 non-null  int64 \n",
      " 52  Number of Airconditioner                       41544 non-null  int64 \n",
      " 53  Number of Car, Jeep, Van                       41544 non-null  int64 \n",
      " 54  Number of Landline/wireless telephones         41544 non-null  int64 \n",
      " 55  Number of Cellular phone                       41544 non-null  int64 \n",
      " 56  Number of Personal Computer                    41544 non-null  int64 \n",
      " 57  Number of Stove with Oven/Gas Range            41544 non-null  int64 \n",
      " 58  Number of Motorized Banca                      41544 non-null  int64 \n",
      " 59  Number of Motorcycle/Tricycle                  41544 non-null  int64 \n",
      "dtypes: int64(45), object(15)\n",
      "memory usage: 19.0+ MB\n"
     ]
    }
   ],
   "source": [
    "# Paper : Section-3.1 - Methodology\n",
    "# Number of columns and rows in the dataset\n",
    "income_data.shape\n",
    "# Number of missing values and type of data\n",
    "income_data.info()\n"
   ]
  },
  {
   "cell_type": "code",
   "execution_count": 4,
   "metadata": {},
   "outputs": [
    {
     "name": "stdout",
     "output_type": "stream",
     "text": [
      "Total Household Income                           0\n",
      "Region                                           0\n",
      "Total Food Expenditure                           0\n",
      "Main Source of Income                            0\n",
      "Agricultural Household indicator                 0\n",
      "Bread and Cereals Expenditure                    0\n",
      "Total Rice Expenditure                           0\n",
      "Meat Expenditure                                 0\n",
      "Total Fish and  marine products Expenditure      0\n",
      "Fruit Expenditure                                0\n",
      "Vegetables Expenditure                           0\n",
      "Restaurant and hotels Expenditure                0\n",
      "Alcoholic Beverages Expenditure                  0\n",
      "Tobacco Expenditure                              0\n",
      "Clothing, Footwear and Other Wear Expenditure    0\n",
      "Housing and water Expenditure                    0\n",
      "Imputed House Rental Value                       0\n",
      "Medical Care Expenditure                         0\n",
      "Transportation Expenditure                       0\n",
      "Communication Expenditure                        0\n",
      "Education Expenditure                            0\n",
      "Miscellaneous Goods and Services Expenditure     0\n",
      "Special Occasions Expenditure                    0\n",
      "Crop Farming and Gardening expenses              0\n",
      "Total Income from Entrepreneurial Acitivites     0\n",
      "Household Head Sex                               0\n",
      "Household Head Age                               0\n",
      "Household Head Marital Status                    0\n",
      "Household Head Highest Grade Completed           0\n",
      "Household Head Job or Business Indicator         0\n",
      "Household Head Occupation                        0\n",
      "Household Head Class of Worker                   0\n",
      "Type of Household                                0\n",
      "Total Number of Family members                   0\n",
      "Members with age less than 5 year old            0\n",
      "Members with age 5 - 17 years old                0\n",
      "Total number of family members employed          0\n",
      "Type of Building/House                           0\n",
      "Type of Roof                                     0\n",
      "Type of Walls                                    0\n",
      "House Floor Area                                 0\n",
      "House Age                                        0\n",
      "Number of bedrooms                               0\n",
      "Tenure Status                                    0\n",
      "Toilet Facilities                                0\n",
      "Electricity                                      0\n",
      "Main Source of Water Supply                      0\n",
      "Number of Television                             0\n",
      "Number of CD/VCD/DVD                             0\n",
      "Number of Component/Stereo set                   0\n",
      "Number of Refrigerator/Freezer                   0\n",
      "Number of Washing Machine                        0\n",
      "Number of Airconditioner                         0\n",
      "Number of Car, Jeep, Van                         0\n",
      "Number of Landline/wireless telephones           0\n",
      "Number of Cellular phone                         0\n",
      "Number of Personal Computer                      0\n",
      "Number of Stove with Oven/Gas Range              0\n",
      "Number of Motorized Banca                        0\n",
      "Number of Motorcycle/Tricycle                    0\n",
      "dtype: int64\n"
     ]
    }
   ],
   "source": [
    "# Paper : Section-3.1 - Methodology\n",
    "# Household Head Occupation and  Household Head Class of Worker \n",
    "from sklearn.impute import SimpleImputer\n",
    "imp = SimpleImputer(strategy = \"most_frequent\")\n",
    "income_data['Household Head Occupation'] = imp.fit_transform(income_data[['Household Head Occupation']])\n",
    "income_data['Household Head Class of Worker'] = imp.fit_transform(income_data[['Household Head Class of Worker']])\n",
    "print(income_data.isnull().sum())"
   ]
  },
  {
   "cell_type": "code",
   "execution_count": 3,
   "metadata": {
    "scrolled": true
   },
   "outputs": [
    {
     "data": {
      "image/png": "[encoded data removed]",
      "text/plain": [
       "<Figure size 432x288 with 1 Axes>"
      ]
     },
     "metadata": {
      "needs_background": "light"
     },
     "output_type": "display_data"
    }
   ],
   "source": [
    "import matplotlib \n",
    "import matplotlib.pyplot as plt \n",
    "import numpy as np\n",
    "plt.hist(income_data['Total Household Income'], 80) \n",
    "plt.xlim(0,2500000) \n",
    "plt.title(\"Distribution of total household income\") \n",
    "plt.show()"
   ]
  },
  {
   "cell_type": "code",
   "execution_count": 16,
   "metadata": {},
   "outputs": [
    {
     "data": {
      "image/png": "[encoded data removed]",
      "text/plain": [
       "<Figure size 432x288 with 1 Axes>"
      ]
     },
     "metadata": {
      "needs_background": "light"
     },
     "output_type": "display_data"
    }
   ],
   "source": [
    "\n",
    "# Create bar \n",
    "plt.barh(income_data['Number of Personal Computer'],income_data['Total Household Income'])\n",
    " \n",
    "# Show graphic \n",
    "plt.show()\n",
    "\n",
    "  "
   ]
  },
  {
   "cell_type": "code",
   "execution_count": 35,
   "metadata": {},
   "outputs": [
    {
     "data": {
      "image/png": "[encoded data removed]",
      "text/plain": [
       "<Figure size 432x288 with 1 Axes>"
      ]
     },
     "metadata": {
      "needs_background": "light"
     },
     "output_type": "display_data"
    }
   ],
   "source": [
    " # Create bar \n",
    "plt.barh(income_data['Household Head Sex'],income_data['Total Household Income'])\n",
    " \n",
    "# Show graphic \n",
    "plt.show()\n"
   ]
  },
  {
   "cell_type": "code",
   "execution_count": 36,
   "metadata": {},
   "outputs": [
    {
     "data": {
      "image/png": "[encoded data removed]",
      "text/plain": [
       "<Figure size 432x288 with 1 Axes>"
      ]
     },
     "metadata": {
      "needs_background": "light"
     },
     "output_type": "display_data"
    }
   ],
   "source": [
    "# Scatterplot\n",
    "plt.scatter(income_data['Total Food Expenditure'],income_data['Total Household Income'])\n",
    "plt.show()"
   ]
  },
  {
   "cell_type": "code",
   "execution_count": 37,
   "metadata": {},
   "outputs": [
    {
     "data": {
      "image/png": "[encoded data removed]",
      "text/plain": [
       "<Figure size 432x288 with 1 Axes>"
      ]
     },
     "metadata": {
      "needs_background": "light"
     },
     "output_type": "display_data"
    }
   ],
   "source": [
    "\n",
    "# Scatterplot\n",
    "plt.scatter(income_data['Housing and water Expenditure'],income_data['Total Household Income'])\n",
    "plt.show()"
   ]
  },
  {
   "cell_type": "code",
   "execution_count": 15,
   "metadata": {
    "scrolled": true
   },
   "outputs": [
    {
     "data": {
      "image/png": "[encoded data removed]",
      "text/plain": [
       "<Figure size 432x288 with 1 Axes>"
      ]
     },
     "metadata": {
      "needs_background": "light"
     },
     "output_type": "display_data"
    }
   ],
   "source": [
    "# Scatterplot\n",
    "plt.scatter(income_data['Communication Expenditure'],income_data['Total Household Income'])\n",
    "plt.show()"
   ]
  },
  {
   "cell_type": "code",
   "execution_count": 5,
   "metadata": {},
   "outputs": [
    {
     "data": {
      "text/plain": [
       "(41544, 15)"
      ]
     },
     "execution_count": 5,
     "metadata": {},
     "output_type": "execute_result"
    }
   ],
   "source": [
    "# Paper : Section-3.1 - Methodology \n",
    "# Handling categorical values\n",
    "from sklearn.preprocessing import OrdinalEncoder\n",
    "categ_data = income_data.select_dtypes(include=['object'])\n",
    "enc = OrdinalEncoder()\n",
    "categ_data1 = enc.fit_transform(categ_data)\n",
    "categ_data = pd.DataFrame(categ_data1 ,columns = categ_data.columns)\n",
    "categ_data.shape\n"
   ]
  },
  {
   "cell_type": "code",
   "execution_count": 6,
   "metadata": {},
   "outputs": [
    {
     "data": {
      "text/html": [
       "<div>\n",
       "<style scoped>\n",
       "    .dataframe tbody tr th:only-of-type {\n",
       "        vertical-align: middle;\n",
       "    }\n",
       "\n",
       "    .dataframe tbody tr th {\n",
       "        vertical-align: top;\n",
       "    }\n",
       "\n",
       "    .dataframe thead th {\n",
       "        text-align: right;\n",
       "    }\n",
       "</style>\n",
       "<table border=\"1\" class=\"dataframe\">\n",
       "  <thead>\n",
       "    <tr style=\"text-align: right;\">\n",
       "      <th></th>\n",
       "      <th>Total Household Income</th>\n",
       "      <th>Total Food Expenditure</th>\n",
       "      <th>Agricultural Household indicator</th>\n",
       "      <th>Bread and Cereals Expenditure</th>\n",
       "      <th>Total Rice Expenditure</th>\n",
       "      <th>Meat Expenditure</th>\n",
       "      <th>Total Fish and  marine products Expenditure</th>\n",
       "      <th>Fruit Expenditure</th>\n",
       "      <th>Vegetables Expenditure</th>\n",
       "      <th>Restaurant and hotels Expenditure</th>\n",
       "      <th>...</th>\n",
       "      <th>Household Head Job or Business Indicator</th>\n",
       "      <th>Household Head Occupation</th>\n",
       "      <th>Household Head Class of Worker</th>\n",
       "      <th>Type of Household</th>\n",
       "      <th>Type of Building/House</th>\n",
       "      <th>Type of Roof</th>\n",
       "      <th>Type of Walls</th>\n",
       "      <th>Tenure Status</th>\n",
       "      <th>Toilet Facilities</th>\n",
       "      <th>Main Source of Water Supply</th>\n",
       "    </tr>\n",
       "  </thead>\n",
       "  <tbody>\n",
       "    <tr>\n",
       "      <th>0</th>\n",
       "      <td>0.039734</td>\n",
       "      <td>0.139338</td>\n",
       "      <td>0.0</td>\n",
       "      <td>0.055023</td>\n",
       "      <td>0.050506</td>\n",
       "      <td>0.094339</td>\n",
       "      <td>0.089295</td>\n",
       "      <td>0.012145</td>\n",
       "      <td>0.179947</td>\n",
       "      <td>0.004136</td>\n",
       "      <td>...</td>\n",
       "      <td>1.0</td>\n",
       "      <td>0.326260</td>\n",
       "      <td>0.333333</td>\n",
       "      <td>0.0</td>\n",
       "      <td>1.0</td>\n",
       "      <td>1.0</td>\n",
       "      <td>0.8</td>\n",
       "      <td>0.571429</td>\n",
       "      <td>1.000000</td>\n",
       "      <td>0.3</td>\n",
       "    </tr>\n",
       "    <tr>\n",
       "      <th>1</th>\n",
       "      <td>0.015837</td>\n",
       "      <td>0.078605</td>\n",
       "      <td>0.0</td>\n",
       "      <td>0.022627</td>\n",
       "      <td>0.017154</td>\n",
       "      <td>0.066652</td>\n",
       "      <td>0.058834</td>\n",
       "      <td>0.007433</td>\n",
       "      <td>0.104719</td>\n",
       "      <td>0.003254</td>\n",
       "      <td>...</td>\n",
       "      <td>1.0</td>\n",
       "      <td>0.938992</td>\n",
       "      <td>0.500000</td>\n",
       "      <td>0.5</td>\n",
       "      <td>1.0</td>\n",
       "      <td>1.0</td>\n",
       "      <td>0.8</td>\n",
       "      <td>0.571429</td>\n",
       "      <td>1.000000</td>\n",
       "      <td>0.3</td>\n",
       "    </tr>\n",
       "    <tr>\n",
       "      <th>2</th>\n",
       "      <td>0.006057</td>\n",
       "      <td>0.071138</td>\n",
       "      <td>0.5</td>\n",
       "      <td>0.044632</td>\n",
       "      <td>0.042200</td>\n",
       "      <td>0.029755</td>\n",
       "      <td>0.013761</td>\n",
       "      <td>0.006319</td>\n",
       "      <td>0.050735</td>\n",
       "      <td>0.006266</td>\n",
       "      <td>...</td>\n",
       "      <td>1.0</td>\n",
       "      <td>0.273210</td>\n",
       "      <td>0.500000</td>\n",
       "      <td>0.5</td>\n",
       "      <td>1.0</td>\n",
       "      <td>0.0</td>\n",
       "      <td>0.0</td>\n",
       "      <td>0.571429</td>\n",
       "      <td>0.857143</td>\n",
       "      <td>0.7</td>\n",
       "    </tr>\n",
       "    <tr>\n",
       "      <th>3</th>\n",
       "      <td>0.008158</td>\n",
       "      <td>0.091245</td>\n",
       "      <td>0.0</td>\n",
       "      <td>0.044433</td>\n",
       "      <td>0.037792</td>\n",
       "      <td>0.041726</td>\n",
       "      <td>0.057447</td>\n",
       "      <td>0.002520</td>\n",
       "      <td>0.105441</td>\n",
       "      <td>0.008659</td>\n",
       "      <td>...</td>\n",
       "      <td>1.0</td>\n",
       "      <td>0.761273</td>\n",
       "      <td>0.000000</td>\n",
       "      <td>0.5</td>\n",
       "      <td>1.0</td>\n",
       "      <td>0.0</td>\n",
       "      <td>0.0</td>\n",
       "      <td>0.571429</td>\n",
       "      <td>0.000000</td>\n",
       "      <td>0.3</td>\n",
       "    </tr>\n",
       "    <tr>\n",
       "      <th>4</th>\n",
       "      <td>0.015082</td>\n",
       "      <td>0.111176</td>\n",
       "      <td>0.0</td>\n",
       "      <td>0.045465</td>\n",
       "      <td>0.039781</td>\n",
       "      <td>0.070311</td>\n",
       "      <td>0.060088</td>\n",
       "      <td>0.005096</td>\n",
       "      <td>0.150535</td>\n",
       "      <td>0.008824</td>\n",
       "      <td>...</td>\n",
       "      <td>1.0</td>\n",
       "      <td>0.339523</td>\n",
       "      <td>0.166667</td>\n",
       "      <td>0.5</td>\n",
       "      <td>1.0</td>\n",
       "      <td>0.0</td>\n",
       "      <td>0.4</td>\n",
       "      <td>0.571429</td>\n",
       "      <td>1.000000</td>\n",
       "      <td>0.3</td>\n",
       "    </tr>\n",
       "  </tbody>\n",
       "</table>\n",
       "<p>5 rows × 60 columns</p>\n",
       "</div>"
      ],
      "text/plain": [
       "   Total Household Income  Total Food Expenditure  \\\n",
       "0                0.039734                0.139338   \n",
       "1                0.015837                0.078605   \n",
       "2                0.006057                0.071138   \n",
       "3                0.008158                0.091245   \n",
       "4                0.015082                0.111176   \n",
       "\n",
       "   Agricultural Household indicator  Bread and Cereals Expenditure  \\\n",
       "0                               0.0                       0.055023   \n",
       "1                               0.0                       0.022627   \n",
       "2                               0.5                       0.044632   \n",
       "3                               0.0                       0.044433   \n",
       "4                               0.0                       0.045465   \n",
       "\n",
       "   Total Rice Expenditure  Meat Expenditure  \\\n",
       "0                0.050506          0.094339   \n",
       "1                0.017154          0.066652   \n",
       "2                0.042200          0.029755   \n",
       "3                0.037792          0.041726   \n",
       "4                0.039781          0.070311   \n",
       "\n",
       "   Total Fish and  marine products Expenditure  Fruit Expenditure  \\\n",
       "0                                     0.089295           0.012145   \n",
       "1                                     0.058834           0.007433   \n",
       "2                                     0.013761           0.006319   \n",
       "3                                     0.057447           0.002520   \n",
       "4                                     0.060088           0.005096   \n",
       "\n",
       "   Vegetables Expenditure  Restaurant and hotels Expenditure  ...  \\\n",
       "0                0.179947                           0.004136  ...   \n",
       "1                0.104719                           0.003254  ...   \n",
       "2                0.050735                           0.006266  ...   \n",
       "3                0.105441                           0.008659  ...   \n",
       "4                0.150535                           0.008824  ...   \n",
       "\n",
       "   Household Head Job or Business Indicator  Household Head Occupation  \\\n",
       "0                                       1.0                   0.326260   \n",
       "1                                       1.0                   0.938992   \n",
       "2                                       1.0                   0.273210   \n",
       "3                                       1.0                   0.761273   \n",
       "4                                       1.0                   0.339523   \n",
       "\n",
       "   Household Head Class of Worker  Type of Household  Type of Building/House  \\\n",
       "0                        0.333333                0.0                     1.0   \n",
       "1                        0.500000                0.5                     1.0   \n",
       "2                        0.500000                0.5                     1.0   \n",
       "3                        0.000000                0.5                     1.0   \n",
       "4                        0.166667                0.5                     1.0   \n",
       "\n",
       "   Type of Roof  Type of Walls  Tenure Status  Toilet Facilities  \\\n",
       "0           1.0            0.8       0.571429           1.000000   \n",
       "1           1.0            0.8       0.571429           1.000000   \n",
       "2           0.0            0.0       0.571429           0.857143   \n",
       "3           0.0            0.0       0.571429           0.000000   \n",
       "4           0.0            0.4       0.571429           1.000000   \n",
       "\n",
       "   Main Source of Water Supply  \n",
       "0                          0.3  \n",
       "1                          0.3  \n",
       "2                          0.7  \n",
       "3                          0.3  \n",
       "4                          0.3  \n",
       "\n",
       "[5 rows x 60 columns]"
      ]
     },
     "execution_count": 6,
     "metadata": {},
     "output_type": "execute_result"
    }
   ],
   "source": [
    "# Paper : Section-3.1 - Methodology\n",
    "# Scaling the data - Normalisation\n",
    "from sklearn import preprocessing\n",
    "numerical_data = income_data.select_dtypes(include=['int64'])\n",
    "scalingObj= preprocessing.MinMaxScaler()\n",
    "x = scalingObj.fit_transform(numerical_data)\n",
    "x1 = scalingObj.fit_transform(categ_data)\n",
    "numerical_data = pd.DataFrame(x,columns = numerical_data.columns)\n",
    "categ_data = pd.DataFrame(x1,columns = categ_data.columns)\n",
    "numerical_data\n",
    "df = pd.concat([numerical_data,categ_data], axis=1, sort=False)\n",
    "df.head()"
   ]
  },
  {
   "cell_type": "code",
   "execution_count": 9,
   "metadata": {},
   "outputs": [
    {
     "name": "stdout",
     "output_type": "stream",
     "text": [
      "                                          Columns         Score\n",
      "16                      Communication Expenditure  42262.553936\n",
      "12                  Housing and water Expenditure  34994.642705\n",
      "18   Miscellaneous Goods and Services Expenditure  33165.794473\n",
      "0                          Total Food Expenditure  32699.075869\n",
      "15                     Transportation Expenditure  28811.131661\n",
      "11  Clothing, Footwear and Other Wear Expenditure  24108.582187\n",
      "13                     Imputed House Rental Value  20422.171591\n",
      "4                                Meat Expenditure  19697.797600\n",
      "21   Total Income from Entrepreneurial Acitivites  19344.552663\n",
      "40                    Number of Personal Computer  18740.182133\n",
      "36                       Number of Airconditioner  18204.620487\n",
      "37                       Number of Car, Jeep, Van  17705.561788\n",
      "8               Restaurant and hotels Expenditure  14604.713178\n",
      "39                       Number of Cellular phone  12992.777322\n",
      "31                           Number of Television  12115.057476\n",
      "34                 Number of Refrigerator/Freezer  12002.467136\n",
      "6                               Fruit Expenditure  10486.313279\n",
      "35                      Number of Washing Machine  10181.982574\n",
      "17                          Education Expenditure   9950.543620\n",
      "5     Total Fish and  marine products Expenditure   7682.897046\n"
     ]
    }
   ],
   "source": [
    "# Paper : Section-2.1 - Research\n",
    "# Univariate Feature Selection\n",
    "from sklearn.feature_selection import  SelectKBest\n",
    "from sklearn.feature_selection import f_regression\n",
    "X = df.iloc[0:41544,1:60]\n",
    "y = df['Total Household Income']\n",
    "selector =  SelectKBest(f_regression, k=20)\n",
    "selector.fit(X,y)\n",
    "dfscores = pd.DataFrame(selector.scores_)\n",
    "dfcolumns = pd.DataFrame(X.columns)\n",
    "\n",
    "#Concat two dataframes for better visualization \n",
    "featureScores = pd.concat([dfcolumns,dfscores],axis=1)\n",
    "featureScores.columns = ['Columns','Score']  #naming the dataframe columns\n",
    "print(featureScores.nlargest(20,'Score')) "
   ]
  },
  {
   "cell_type": "code",
   "execution_count": 10,
   "metadata": {},
   "outputs": [
    {
     "data": {
      "image/png": "[encoded data removed]",
      "text/plain": [
       "<Figure size 432x288 with 1 Axes>"
      ]
     },
     "metadata": {
      "needs_background": "light"
     },
     "output_type": "display_data"
    }
   ],
   "source": [
    "# Paper : Section-2.2 - Research\n",
    "# Tree based faeture selection - Random forest\n",
    "from sklearn.ensemble import RandomForestRegressor\n",
    "forest = RandomForestRegressor(n_estimators=250, random_state=35)\n",
    "forest.fit(X, y)\n",
    "importances= forest.feature_importances_\n",
    "\n",
    "#plot graph of feature importances for better visualization\n",
    "feat_importances = pd.Series(importances, index=X.columns)\n",
    "feat_importances.nlargest(20).plot(kind='barh')\n",
    "plt.show()"
   ]
  },
  {
   "cell_type": "code",
   "execution_count": 11,
   "metadata": {},
   "outputs": [
    {
     "name": "stdout",
     "output_type": "stream",
     "text": [
      "46\n",
      "[ 1  1  6  1  1  1  1  1  1  1  1  1  1  1  1  1  1  1  1  1  1  1  1  1\n",
      "  1  5  1  1  1  1  1  1  9  1  1  1  1  1  1  7  1  1  1  1  8  1  1  1\n",
      "  1  1 11  1  4 14 10 13  3  2 12]\n",
      "[ True  True False  True  True  True  True  True  True  True  True  True\n",
      "  True  True  True  True  True  True  True  True  True  True  True  True\n",
      "  True False  True  True  True  True  True  True False  True  True  True\n",
      "  True  True  True False  True  True  True  True False  True  True  True\n",
      "  True  True False  True False False False False False False False]\n"
     ]
    },
    {
     "data": {
      "image/png": "[encoded data removed]",
      "text/plain": [
       "<Figure size 432x288 with 1 Axes>"
      ]
     },
     "metadata": {
      "needs_background": "light"
     },
     "output_type": "display_data"
    }
   ],
   "source": [
    "# Paper : Section-2.3 - Research\n",
    "# Greedy Feature Selection - RFE \n",
    "from sklearn import model_selection\n",
    "from sklearn.feature_selection import RFECV\n",
    "from sklearn import linear_model \n",
    "\n",
    "# Build a classification task using 3 informative features\n",
    "estimator = linear_model.LinearRegression()\n",
    "rfecv= RFECV(estimator, cv=10)\n",
    "rfecv.fit(X, y)\n",
    "\n",
    "# optimal number of features\n",
    "print (rfecv.n_features_)\n",
    "\n",
    "# Ranking of each feature\n",
    "print (rfecv.ranking_)\n",
    "print (rfecv.support_)\n",
    "\n",
    "# Subset of selected data\n",
    "selected_features = rfecv.support_\n",
    "df_selected = X.iloc[:,selected_features]\n",
    "\n",
    "# Graph\n",
    "plt.plot(range(1,len(rfecv.grid_scores_)+1),rfecv.grid_scores_)\n",
    "plt.show()"
   ]
  },
  {
   "cell_type": "code",
   "execution_count": 19,
   "metadata": {},
   "outputs": [
    {
     "name": "stdout",
     "output_type": "stream",
     "text": [
      "[1 1 1 1 1 1 1 3 1 1 1 1 1 1 1 1 1 1 1 1 1 1 2 1 1 1 1]\n",
      "[ True  True  True  True  True  True  True False  True  True  True  True\n",
      "  True  True  True  True  True  True  True  True  True  True False  True\n",
      "  True  True  True]\n"
     ]
    },
    {
     "data": {
      "image/png": "[encoded data removed]",
      "text/plain": [
       "<Figure size 432x288 with 1 Axes>"
      ]
     },
     "metadata": {
      "needs_background": "light"
     },
     "output_type": "display_data"
    },
    {
     "name": "stdout",
     "output_type": "stream",
     "text": [
      "(41544, 25)\n"
     ]
    }
   ],
   "source": [
    "# Feature Selection\n",
    "from sklearn.tree import DecisionTreeRegressor\n",
    "\n",
    "# Paper : Section-2.3 - Research\n",
    "# Greedy Feature Selection - RFE \n",
    "from sklearn import model_selection\n",
    "from sklearn.feature_selection import RFECV\n",
    "from sklearn import linear_model \n",
    "\n",
    "# Build a classification task using 3 informative features\n",
    "estimator = DecisionTreeRegressor(random_state=35)\n",
    "rfecv= RFECV(estimator, cv=10)\n",
    "rfecv.fit(X, y)\n",
    "\n",
    "# optimal number of features\n",
    "print (rfecv.n_features_)\n",
    "\n",
    "# Ranking of each feature\n",
    "print (rfecv.ranking_)\n",
    "print (rfecv.support_)\n",
    "\n",
    "# Subset of selected data\n",
    "selected_features = rfecv.support_\n",
    "df_selected1 = X.iloc[:,selected_features]\n",
    "\n",
    "# Graph\n",
    "plt.plot(range(1,len(rfecv.grid_scores_)+1),rfecv.grid_scores_)\n",
    "plt.show()\n",
    "print(df_selected1.shape)"
   ]
  },
  {
   "cell_type": "code",
   "execution_count": 17,
   "metadata": {},
   "outputs": [
    {
     "name": "stdout",
     "output_type": "stream",
     "text": [
      "[('Linear_Regression', LinearRegression(copy_X=True, fit_intercept=True, n_jobs=None, normalize=False)), ('kNN', KNeighborsRegressor(algorithm='auto', leaf_size=30, metric='minkowski',\n",
      "                    metric_params=None, n_jobs=None, n_neighbors=6, p=2,\n",
      "                    weights='uniform')), ('Random_Forest', RandomForestRegressor(bootstrap=True, ccp_alpha=0.0, criterion='mse',\n",
      "                      max_depth=None, max_features='auto', max_leaf_nodes=None,\n",
      "                      max_samples=None, min_impurity_decrease=0.0,\n",
      "                      min_impurity_split=None, min_samples_leaf=1,\n",
      "                      min_samples_split=2, min_weight_fraction_leaf=0.0,\n",
      "                      n_estimators=250, n_jobs=None, oob_score=False,\n",
      "                      random_state=35, verbose=0, warm_start=False))]\n"
     ]
    }
   ],
   "source": [
    "# Paper : Section-3 - Methodology\n",
    "# Model Building with selected 24 vaiables\n",
    "from sklearn import model_selection\n",
    "from sklearn.model_selection import train_test_split \n",
    "from sklearn.model_selection import KFold\n",
    "from sklearn.model_selection import cross_val_score\n",
    "from sklearn.linear_model import LinearRegression\n",
    "from sklearn.neighbors import KNeighborsRegressor\n",
    "from sklearn.ensemble import RandomForestRegressor\n",
    "from sklearn.tree import DecisionTreeRegressor  \n",
    "\n",
    "# Train -70% and test-30%\n",
    "X = df_selected1\n",
    "y = df['Total Household Income']\n",
    "X_train, X_test, y_train, y_test = train_test_split(X, y, test_size=0.3, random_state=35)\n",
    "\n",
    "# List of models\n",
    "models = []\n",
    "models.append(('Linear_Regression', LinearRegression()))\n",
    "models.append(('kNN', KNeighborsRegressor(n_neighbors=6)))\n",
    "models.append(('Random_Forest',RandomForestRegressor(min_samples_split=2,n_estimators=250,random_state=35)))\n",
    "\n",
    "results = []\n",
    "names = []\n",
    "scoring = 'neg_root_mean_squared_error'\n",
    "\n",
    "# Cross Validation\n",
    "for name, model in models:\n",
    "    kfold = model_selection.KFold(n_splits=10, random_state=35,shuffle=True)\n",
    "    cv_results = model_selection.cross_val_score(model, X_train, y_train, cv=kfold, scoring=scoring)\n",
    "    results.append(cv_results)\n",
    "    names.append(name)\n",
    "\n",
    "print(models)\n"
   ]
  },
  {
   "cell_type": "code",
   "execution_count": 18,
   "metadata": {},
   "outputs": [
    {
     "name": "stdout",
     "output_type": "stream",
     "text": [
      "Mean Absolute Error for Linear Regression: 0.0044\n",
      "Mean Squared Error for Linear Regression: 0.0001\n",
      "Root Mean Squared Error for Linear Regression: 0.0087\n",
      "R squared score for Linear Regression: 0.8496\n",
      "Mean Absolute Error for kNN: 0.0062\n",
      "Mean Squared Error  for kNN: 0.0002\n",
      "Root Mean Squared Error for kNN: 0.0127\n",
      "R squared score for kNN: 0.6753\n",
      "Mean Absolute Error for Random Forest: 0.0041\n",
      "Mean Squared Error for Random Forest: 0.0001\n",
      "Root Mean Squared Error for Random Forest: 0.009\n",
      "R squared score for Random Forest: 0.8393\n"
     ]
    }
   ],
   "source": [
    "# Paper : Section-4 - Methodology\n",
    "# Evaluation of all models\n",
    "from sklearn import metrics\n",
    "# Linear Regression\n",
    "linear_model = models[0][1].fit(X_train,y_train)\n",
    "y_pred = linear_model.predict(X_test)\n",
    "print('Mean Absolute Error for Linear Regression:', round(metrics.mean_absolute_error(y_test, y_pred),4))  \n",
    "print('Mean Squared Error for Linear Regression:', round(metrics.mean_squared_error(y_test, y_pred),4))  \n",
    "print('Root Mean Squared Error for Linear Regression:', round(np.sqrt(metrics.mean_squared_error(y_test, y_pred)),4))\n",
    "print('R squared score for Linear Regression:', round(metrics.r2_score(y_test,y_pred),4))\n",
    "\n",
    "# kNN \n",
    "kNN_model = models[1][1].fit(X_train,y_train)\n",
    "y_pred = kNN_model.predict(X_test)\n",
    "print('Mean Absolute Error for kNN:', round(metrics.mean_absolute_error(y_test, y_pred),4))  \n",
    "print('Mean Squared Error  for kNN:', round(metrics.mean_squared_error(y_test, y_pred),4))  \n",
    "print('Root Mean Squared Error for kNN:', round(np.sqrt(metrics.mean_squared_error(y_test, y_pred)),4))\n",
    "print('R squared score for kNN:', round(metrics.r2_score(y_test,y_pred),4))\n",
    "\n",
    "# Random Forest\n",
    "rf_model = models[2][1].fit(X_train,y_train)\n",
    "y_pred = rf_model.predict(X_test)\n",
    "print('Mean Absolute Error for Random Forest:', round(metrics.mean_absolute_error(y_test, y_pred),4))  \n",
    "print('Mean Squared Error for Random Forest:', round(metrics.mean_squared_error(y_test, y_pred),4))  \n",
    "print('Root Mean Squared Error for Random Forest:', round(np.sqrt(metrics.mean_squared_error(y_test, y_pred)),4))\n",
    "print('R squared score for Random Forest:', round(metrics.r2_score(y_test,y_pred),4))"
   ]
  },
  {
   "cell_type": "code",
   "execution_count": 38,
   "metadata": {},
   "outputs": [
    {
     "name": "stdout",
     "output_type": "stream",
     "text": [
      "(41544, 26)\n"
     ]
    },
    {
     "data": {
      "image/png": "[encoded data removed]",
      "text/plain": [
       "<Figure size 432x288 with 1 Axes>"
      ]
     },
     "metadata": {
      "needs_background": "light"
     },
     "output_type": "display_data"
    }
   ],
   "source": [
    "# Paper : Section-4 Evaluation\n",
    "# Boxplot- algorithm comparison\n",
    "print(X.shape)\n",
    "fig = plt.figure()\n",
    "fig.suptitle('Algorithm Comparison')\n",
    "ax = fig.add_subplot(111)\n",
    "plt.boxplot(results)\n",
    "ax.set_ylabel(\"Root mean square error\")\n",
    "ax.set_xticklabels(names)\n",
    "plt.show()"
   ]
  },
  {
   "cell_type": "code",
   "execution_count": 39,
   "metadata": {},
   "outputs": [
    {
     "name": "stdout",
     "output_type": "stream",
     "text": [
      "(41544, 24)\n"
     ]
    }
   ],
   "source": [
    "# Paper : Section-4 Evaluation\n",
    "# Building models for selected 46 values.\n",
    "\n",
    "# Train -70% and test-30%\n",
    "X1 = df_selected\n",
    "y1 = df['Total Household Income']\n",
    "print(X1.shape)\n",
    "X1_train, X1_test, y1_train, y1_test = train_test_split(X1, y1, test_size=0.3, random_state=35)\n",
    "\n",
    "models = []\n",
    "\n",
    "# List of Models\n",
    "models.append(('Linear_Regression', LinearRegression()))\n",
    "models.append(('kNN', KNeighborsRegressor(n_neighbors=6)))\n",
    "models.append(('Random_Forest',RandomForestRegressor(n_estimators=250,random_state=35)))\n",
    "\n",
    "results1 = []\n",
    "names1 = []\n",
    "scoring = 'neg_root_mean_squared_error'\n",
    "\n",
    "# Cross Validation\n",
    "for name, model in models:\n",
    "    kfold = model_selection.KFold(n_splits=10, random_state=35,shuffle=True)\n",
    "    cv_results = model_selection.cross_val_score(model, X1_train, y1_train, cv=kfold, scoring=scoring)\n",
    "    results1.append(cv_results)\n",
    "    names1.append(name)\n"
   ]
  },
  {
   "cell_type": "code",
   "execution_count": 40,
   "metadata": {},
   "outputs": [
    {
     "name": "stdout",
     "output_type": "stream",
     "text": [
      "Mean Absolute Error for Linear Regression: 0.0044\n",
      "Mean Squared Error for Linear Regression: 0.0001\n",
      "Root Mean Squared Error for Linear Regression: 0.0087\n",
      "R squared score for Linear Regression: 0.8494\n",
      "Mean Absolute Error for kNN: 0.0061\n",
      "Mean Squared Error  for kNN: 0.0002\n",
      "Root Mean Squared Error for kNN: 0.0125\n",
      "R squared score for kNN: 0.6862\n",
      "Mean Absolute Error for Random Forest: 0.0041\n",
      "Mean Squared Error for Random Forest: 0.0001\n",
      "Root Mean Squared Error for Random Forest: 0.0089\n",
      "R squared score for Random Forest: 0.8419\n"
     ]
    }
   ],
   "source": [
    "# Paper : Section-3 Methodology\n",
    "# Evaluation of all models\n",
    "from sklearn import metrics\n",
    "\n",
    "# Linear Regression\n",
    "linear_model = models[0][1].fit(X1_train,y1_train)\n",
    "y1_pred = linear_model.predict(X1_test)\n",
    "print('Mean Absolute Error for Linear Regression:', round(metrics.mean_absolute_error(y1_test, y1_pred),4))\n",
    "print('Mean Squared Error for Linear Regression:', round(metrics.mean_squared_error(y1_test, y1_pred),4))  \n",
    "print('Root Mean Squared Error for Linear Regression:', round(np.sqrt(metrics.mean_squared_error(y1_test, y1_pred)),4))\n",
    "print('R squared score for Linear Regression:', round(metrics.r2_score(y1_test,y1_pred),4))\n",
    "\n",
    "# kNN \n",
    "kNN_model = models[1][1].fit(X1_train,y1_train)\n",
    "y1_pred = kNN_model.predict(X1_test)\n",
    "print('Mean Absolute Error for kNN:', round(metrics.mean_absolute_error(y1_test, y1_pred),4))  \n",
    "print('Mean Squared Error  for kNN:', round(metrics.mean_squared_error(y1_test, y1_pred),4))  \n",
    "print('Root Mean Squared Error for kNN:', round(np.sqrt(metrics.mean_squared_error(y1_test, y1_pred)),4))\n",
    "print('R squared score for kNN:', round(metrics.r2_score(y1_test,y1_pred),4))\n",
    "\n",
    "# Random Forest\n",
    "rf_model = models[2][1].fit(X1_train,y1_train)\n",
    "y1_pred = rf_model.predict(X1_test)\n",
    "print('Mean Absolute Error for Random Forest:', round(metrics.mean_absolute_error(y1_test, y1_pred),4))  \n",
    "print('Mean Squared Error for Random Forest:', round(metrics.mean_squared_error(y1_test, y1_pred),4))  \n",
    "print('Root Mean Squared Error for Random Forest:', round(np.sqrt(metrics.mean_squared_error(y1_test, y1_pred)),4))\n",
    "print('R squared score for Random Forest:', round(metrics.r2_score(y1_test,y1_pred),4))\n"
   ]
  },
  {
   "cell_type": "code",
   "execution_count": 42,
   "metadata": {},
   "outputs": [
    {
     "data": {
      "image/png": "[encoded data removed]",
      "text/plain": [
       "<Figure size 432x288 with 1 Axes>"
      ]
     },
     "metadata": {
      "needs_background": "light"
     },
     "output_type": "display_data"
    }
   ],
   "source": [
    "# Paper : Section-4 Evaluation\n",
    "# Boxplot- algorithm comparison\n",
    "fig = plt.figure()\n",
    "fig.suptitle('Algorithm Comparison')\n",
    "ax = fig.add_subplot(111)\n",
    "plt.boxplot(results1)\n",
    "ax.set_ylabel(\"Root mean square error\")\n",
    "ax.set_xticklabels(names1)\n",
    "plt.show()"
   ]
  },
  {
   "cell_type": "code",
   "execution_count": null,
   "metadata": {},
   "outputs": [],
   "source": []
  }
 ],
 "metadata": {
  "kernelspec": {
   "display_name": "Python 3",
   "language": "python",
   "name": "python3"
  },
  "language_info": {
   "codemirror_mode": {
    "name": "ipython",
    "version": 3
   },
   "file_extension": ".py",
   "mimetype": "text/x-python",
   "name": "python",
   "nbconvert_exporter": "python",
   "pygments_lexer": "ipython3",
   "version": "3.7.3"
  }
 },
 "nbformat": 4,
 "nbformat_minor": 4
}
